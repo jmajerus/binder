{
 "cells": [
  {
   "cell_type": "code",
   "execution_count": 12,
   "id": "4d9f3355-184a-45f6-ae45-33c8b44ba34b",
   "metadata": {},
   "outputs": [
    {
     "data": {
      "text/html": [
       "<h4>Imported from CovidActNow...</h4>"
      ],
      "text/plain": [
       "<IPython.core.display.HTML object>"
      ]
     },
     "execution_count": 12,
     "metadata": {},
     "output_type": "execute_result"
    }
   ],
   "source": [
    "HTML(\"<h4>Imported from CovidActNow...</h4>\")"
   ]
  },
  {
   "cell_type": "code",
   "execution_count": 1,
   "id": "21cf901f-8901-4d06-8a9a-9d5463d9c02b",
   "metadata": {},
   "outputs": [
    {
     "data": {
      "text/html": [
       "<H2>Minnesota</H2><table border=\"1\"><tr><th>fips</th><td>27</td></tr><tr><th>country</th><td>US</td></tr><tr><th>state</th><td>MN</td></tr><tr><th>county</th><td>None</td></tr><tr><th>level</th><td>state</td></tr><tr><th>lat</th><td>None</td></tr><tr><th>locationId</th><td>iso1:us#iso2:us-mn</td></tr><tr><th>long</th><td>None</td></tr><tr><th>population</th><td>5639632</td></tr><tr><th>metrics</th><td><table border=\"1\"><tr><th>testPositivityRatio</th><td>0.096</td></tr><tr><th>testPositivityRatioDetails</th><td><table border=\"1\"><tr><th>source</th><td>other</td></tr></table></td></tr><tr><th>caseDensity</th><td>54.0</td></tr><tr><th>contactTracerCapacityRatio</th><td>0.07</td></tr><tr><th>infectionRate</th><td>1.1</td></tr><tr><th>infectionRateCI90</th><td>0.1</td></tr><tr><th>icuCapacityRatio</th><td>0.8</td></tr><tr><th>vaccinationsInitiatedRatio</th><td>0.642</td></tr><tr><th>vaccinationsCompletedRatio</th><td>0.589</td></tr></table></td></tr><tr><th>riskLevels</th><td><table border=\"1\"><tr><th>overall</th><td>3</td></tr><tr><th>testPositivityRatio</th><td>1</td></tr><tr><th>caseDensity</th><td>3</td></tr><tr><th>contactTracerCapacityRatio</th><td>2</td></tr><tr><th>infectionRate</th><td>1</td></tr><tr><th>icuCapacityRatio</th><td>1</td></tr></table></td></tr><tr><th>cdcTransmissionLevel</th><td>3</td></tr><tr><th>actuals</th><td><table border=\"1\"><tr><th>cases</th><td>746892</td></tr><tr><th>deaths</th><td>8454</td></tr><tr><th>positiveTests</th><td>1082091</td></tr><tr><th>negativeTests</th><td>14524422</td></tr><tr><th>contactTracers</th><td>1028</td></tr><tr><th>hospitalBeds</th><td><table border=\"1\"><tr><th>capacity</th><td>9955</td></tr><tr><th>currentUsageTotal</th><td>8171</td></tr><tr><th>currentUsageCovid</th><td>1115</td></tr></table></td></tr><tr><th>icuBeds</th><td><table border=\"1\"><tr><th>capacity</th><td>950</td></tr><tr><th>currentUsageTotal</th><td>760</td></tr><tr><th>currentUsageCovid</th><td>265</td></tr></table></td></tr><tr><th>newCases</th><td>7936</td></tr><tr><th>newDeaths</th><td>21</td></tr><tr><th>vaccinesDistributed</th><td>8085140</td></tr><tr><th>vaccinationsInitiated</th><td>3617881</td></tr><tr><th>vaccinationsCompleted</th><td>3319719</td></tr><tr><th>vaccinesAdministered</th><td>6867860</td></tr><tr><th>vaccinesAdministeredDemographics</th><td>None</td></tr><tr><th>vaccinationsInitiatedDemographics</th><td>None</td></tr></table></td></tr><tr><th>annotations</th><td><table border=\"1\"><tr><th>cases</th><td><table border=\"1\"><tr><th>sources</th><td><table border=\"1\"><thead><tr><th>type</th><th>url</th><th>name</th></tr></thead><tbody><tr><td>NYTimes</td><td>https://github.com/nytimes/covid-19-data</td><td>The New York Times</td></tr></tbody></table></td></tr><tr><th>anomalies</th><td></td></tr></table></td></tr><tr><th>deaths</th><td><table border=\"1\"><tr><th>sources</th><td><table border=\"1\"><thead><tr><th>type</th><th>url</th><th>name</th></tr></thead><tbody><tr><td>NYTimes</td><td>https://github.com/nytimes/covid-19-data</td><td>The New York Times</td></tr></tbody></table></td></tr><tr><th>anomalies</th><td></td></tr></table></td></tr><tr><th>positiveTests</th><td><table border=\"1\"><tr><th>sources</th><td><table border=\"1\"><thead><tr><th>type</th><th>url</th><th>name</th></tr></thead><tbody><tr><td>HHSTesting</td><td>None</td><td>None</td></tr></tbody></table></td></tr><tr><th>anomalies</th><td></td></tr></table></td></tr><tr><th>negativeTests</th><td><table border=\"1\"><tr><th>sources</th><td><table border=\"1\"><thead><tr><th>type</th><th>url</th><th>name</th></tr></thead><tbody><tr><td>HHSTesting</td><td>None</td><td>None</td></tr></tbody></table></td></tr><tr><th>anomalies</th><td></td></tr></table></td></tr><tr><th>contactTracers</th><td><table border=\"1\"><tr><th>sources</th><td><table border=\"1\"><thead><tr><th>type</th><th>url</th><th>name</th></tr></thead><tbody><tr><td>TestAndTrace</td><td>None</td><td>None</td></tr></tbody></table></td></tr><tr><th>anomalies</th><td></td></tr></table></td></tr><tr><th>hospitalBeds</th><td><table border=\"1\"><tr><th>sources</th><td><table border=\"1\"><thead><tr><th>type</th><th>url</th><th>name</th></tr></thead><tbody><tr><td>other</td><td>https://healthdata.gov/Hospital/COVID-19-Reported-Patient-Impact-and-Hospital-Capa/g62h-syeh</td><td>Department of Health and Human Services</td></tr></tbody></table></td></tr><tr><th>anomalies</th><td></td></tr></table></td></tr><tr><th>icuBeds</th><td><table border=\"1\"><tr><th>sources</th><td><table border=\"1\"><thead><tr><th>type</th><th>url</th><th>name</th></tr></thead><tbody><tr><td>other</td><td>https://healthdata.gov/Hospital/COVID-19-Reported-Patient-Impact-and-Hospital-Capa/g62h-syeh</td><td>Department of Health and Human Services</td></tr></tbody></table></td></tr><tr><th>anomalies</th><td></td></tr></table></td></tr><tr><th>newCases</th><td>None</td></tr><tr><th>newDeaths</th><td>None</td></tr><tr><th>vaccinesDistributed</th><td><table border=\"1\"><tr><th>sources</th><td><table border=\"1\"><thead><tr><th>type</th><th>url</th><th>name</th></tr></thead><tbody><tr><td>other</td><td>https://covid.cdc.gov/covid-data-tracker/#vaccinations</td><td>Centers for Disease Control and Prevention</td></tr></tbody></table></td></tr><tr><th>anomalies</th><td></td></tr></table></td></tr><tr><th>vaccinationsInitiated</th><td><table border=\"1\"><tr><th>sources</th><td><table border=\"1\"><thead><tr><th>type</th><th>url</th><th>name</th></tr></thead><tbody><tr><td>other</td><td>https://covid.cdc.gov/covid-data-tracker/#vaccinations</td><td>Centers for Disease Control and Prevention</td></tr></tbody></table></td></tr><tr><th>anomalies</th><td></td></tr></table></td></tr><tr><th>vaccinationsCompleted</th><td><table border=\"1\"><tr><th>sources</th><td><table border=\"1\"><thead><tr><th>type</th><th>url</th><th>name</th></tr></thead><tbody><tr><td>other</td><td>https://covid.cdc.gov/covid-data-tracker/#vaccinations</td><td>Centers for Disease Control and Prevention</td></tr></tbody></table></td></tr><tr><th>anomalies</th><td></td></tr></table></td></tr><tr><th>vaccinesAdministered</th><td><table border=\"1\"><tr><th>sources</th><td><table border=\"1\"><thead><tr><th>type</th><th>url</th><th>name</th></tr></thead><tbody><tr><td>other</td><td>https://covid.cdc.gov/covid-data-tracker/#vaccinations</td><td>Centers for Disease Control and Prevention</td></tr></tbody></table></td></tr><tr><th>anomalies</th><td></td></tr></table></td></tr><tr><th>testPositivityRatio</th><td><table border=\"1\"><tr><th>sources</th><td><table border=\"1\"><thead><tr><th>type</th><th>url</th><th>name</th></tr></thead><tbody><tr><td>HHSTesting</td><td>None</td><td>None</td></tr></tbody></table></td></tr><tr><th>anomalies</th><td></td></tr></table></td></tr><tr><th>caseDensity</th><td><table border=\"1\"><tr><th>sources</th><td><table border=\"1\"><thead><tr><th>type</th><th>url</th><th>name</th></tr></thead><tbody><tr><td>NYTimes</td><td>https://github.com/nytimes/covid-19-data</td><td>The New York Times</td></tr></tbody></table></td></tr><tr><th>anomalies</th><td></td></tr></table></td></tr><tr><th>contactTracerCapacityRatio</th><td><table border=\"1\"><tr><th>sources</th><td><table border=\"1\"><thead><tr><th>type</th><th>url</th><th>name</th></tr></thead><tbody><tr><td>TestAndTrace</td><td>None</td><td>None</td></tr></tbody></table></td></tr><tr><th>anomalies</th><td></td></tr></table></td></tr><tr><th>infectionRate</th><td><table border=\"1\"><tr><th>sources</th><td><table border=\"1\"><thead><tr><th>type</th><th>url</th><th>name</th></tr></thead><tbody><tr><td>NYTimes</td><td>https://github.com/nytimes/covid-19-data</td><td>The New York Times</td></tr></tbody></table></td></tr><tr><th>anomalies</th><td></td></tr></table></td></tr><tr><th>infectionRateCI90</th><td><table border=\"1\"><tr><th>sources</th><td><table border=\"1\"><thead><tr><th>type</th><th>url</th><th>name</th></tr></thead><tbody><tr><td>NYTimes</td><td>https://github.com/nytimes/covid-19-data</td><td>The New York Times</td></tr></tbody></table></td></tr><tr><th>anomalies</th><td></td></tr></table></td></tr><tr><th>icuCapacityRatio</th><td><table border=\"1\"><tr><th>sources</th><td><table border=\"1\"><thead><tr><th>type</th><th>url</th><th>name</th></tr></thead><tbody><tr><td>other</td><td>https://healthdata.gov/Hospital/COVID-19-Reported-Patient-Impact-and-Hospital-Capa/g62h-syeh</td><td>Department of Health and Human Services</td></tr></tbody></table></td></tr><tr><th>anomalies</th><td></td></tr></table></td></tr><tr><th>vaccinationsInitiatedRatio</th><td>None</td></tr><tr><th>vaccinationsCompletedRatio</th><td>None</td></tr></table></td></tr><tr><th>lastUpdatedDate</th><td>2021-10-13</td></tr><tr><th>url</th><td>https://covidactnow.org/us/minnesota-mn</td></tr></table>"
      ],
      "text/plain": [
       "<IPython.core.display.HTML object>"
      ]
     },
     "execution_count": 1,
     "metadata": {},
     "output_type": "execute_result"
    }
   ],
   "source": [
    "import requests, json\n",
    "from json2html import *\n",
    "from IPython.display import HTML\n",
    "import config\n",
    "url = 'https://api.covidactnow.org/v2/state/MN.json?apiKey='+config.covidactnow_api_key\n",
    "data = requests.get(url).json()\n",
    "#print(json.dumps(data, indent=4))\n",
    "#HTML(\"<H2>Minnesota</H2>\")\n",
    "HTML(\"<H2>Minnesota</H2>\"+json2html.convert(json = data))\n"
   ]
  },
  {
   "cell_type": "code",
   "execution_count": null,
   "id": "93c9cbc2-b96e-40a3-b227-0611a0615945",
   "metadata": {},
   "outputs": [],
   "source": []
  },
  {
   "cell_type": "code",
   "execution_count": null,
   "id": "d0f19cb9-6003-462d-a1d5-731beb9c6366",
   "metadata": {},
   "outputs": [],
   "source": []
  }
 ],
 "metadata": {
  "kernelspec": {
   "display_name": "Python 3 (ipykernel)",
   "language": "python",
   "name": "python3"
  },
  "language_info": {
   "codemirror_mode": {
    "name": "ipython",
    "version": 3
   },
   "file_extension": ".py",
   "mimetype": "text/x-python",
   "name": "python",
   "nbconvert_exporter": "python",
   "pygments_lexer": "ipython3",
   "version": "3.10.0"
  }
 },
 "nbformat": 4,
 "nbformat_minor": 5
}
